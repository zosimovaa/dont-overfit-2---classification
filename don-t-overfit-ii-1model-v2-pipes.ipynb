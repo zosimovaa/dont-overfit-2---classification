{
 "cells": [
  {
   "cell_type": "markdown",
   "metadata": {},
   "source": [
    "# Problem description\n",
    "\n",
    "Competition https://www.kaggle.com/c/dont-overfit-ii/overview\n",
    "\n",
    "The dataset has taken from [here](https://www.kaggle.com/mdmub0587/older-dataset-for-dont-overfit-ii-challenge)\n",
    "because according to the dataset that is posted in the competition itself, validation does not pass."
   ]
  },
  {
   "cell_type": "markdown",
   "metadata": {},
   "source": [
    "# Imports"
   ]
  },
  {
   "cell_type": "code",
   "execution_count": 1,
   "metadata": {},
   "outputs": [],
   "source": [
    "import os\n",
    "import numpy as np \n",
    "import pandas as pd \n",
    "from datetime import datetime\n",
    "\n",
    "\n",
    "from sklearn.preprocessing import FunctionTransformer\n",
    "from sklearn.base import BaseEstimator, TransformerMixin\n",
    "\n",
    "from sklearn.model_selection import train_test_split\n",
    "from sklearn.preprocessing import PolynomialFeatures\n",
    "from sklearn.inspection import permutation_importance\n",
    "from sklearn.feature_selection import *\n",
    "\n",
    "from scipy import stats\n",
    "\n",
    "import matplotlib.pyplot as plt\n",
    "import seaborn as sns\n",
    "from sklearn.manifold import TSNE\n",
    "\n",
    "import warnings\n",
    "warnings.filterwarnings('ignore')\n",
    "\n",
    "random_state=10"
   ]
  },
  {
   "cell_type": "code",
   "execution_count": 2,
   "metadata": {
    "_cell_guid": "b1076dfc-b9ad-4769-8c92-a6c4dae69d19",
    "_uuid": "8f2839f25d086af736a60e9eeb907d3b93b6e0e5"
   },
   "outputs": [],
   "source": [
    "for dirname, _, filenames in os.walk('/kaggle/input'):\n",
    "    for filename in filenames:\n",
    "        print(os.path.join(dirname, filename))"
   ]
  },
  {
   "cell_type": "code",
   "execution_count": 3,
   "metadata": {},
   "outputs": [],
   "source": [
    "path = \"/kaggle/input/dont-overfit-ii/\"\n",
    "if not os.path.exists(path):\n",
    "    path = \"\"\n",
    "\n",
    "data = pd.read_csv(path + \"train_old.csv\", index_col=\"id\")\n",
    "test = pd.read_csv(path + \"test_old.csv\", index_col=\"id\")\n",
    "ss = pd.read_csv(path + \"sample_submission.csv\", index_col=\"id\")"
   ]
  },
  {
   "cell_type": "markdown",
   "metadata": {},
   "source": [
    "# EDA"
   ]
  },
  {
   "cell_type": "code",
   "execution_count": 4,
   "metadata": {},
   "outputs": [
    {
     "data": {
      "text/html": [
       "<div>\n",
       "<style scoped>\n",
       "    .dataframe tbody tr th:only-of-type {\n",
       "        vertical-align: middle;\n",
       "    }\n",
       "\n",
       "    .dataframe tbody tr th {\n",
       "        vertical-align: top;\n",
       "    }\n",
       "\n",
       "    .dataframe thead th {\n",
       "        text-align: right;\n",
       "    }\n",
       "</style>\n",
       "<table border=\"1\" class=\"dataframe\">\n",
       "  <thead>\n",
       "    <tr style=\"text-align: right;\">\n",
       "      <th></th>\n",
       "      <th>target</th>\n",
       "      <th>0</th>\n",
       "      <th>1</th>\n",
       "      <th>2</th>\n",
       "      <th>3</th>\n",
       "      <th>4</th>\n",
       "      <th>5</th>\n",
       "      <th>6</th>\n",
       "      <th>7</th>\n",
       "      <th>8</th>\n",
       "      <th>...</th>\n",
       "      <th>290</th>\n",
       "      <th>291</th>\n",
       "      <th>292</th>\n",
       "      <th>293</th>\n",
       "      <th>294</th>\n",
       "      <th>295</th>\n",
       "      <th>296</th>\n",
       "      <th>297</th>\n",
       "      <th>298</th>\n",
       "      <th>299</th>\n",
       "    </tr>\n",
       "    <tr>\n",
       "      <th>id</th>\n",
       "      <th></th>\n",
       "      <th></th>\n",
       "      <th></th>\n",
       "      <th></th>\n",
       "      <th></th>\n",
       "      <th></th>\n",
       "      <th></th>\n",
       "      <th></th>\n",
       "      <th></th>\n",
       "      <th></th>\n",
       "      <th></th>\n",
       "      <th></th>\n",
       "      <th></th>\n",
       "      <th></th>\n",
       "      <th></th>\n",
       "      <th></th>\n",
       "      <th></th>\n",
       "      <th></th>\n",
       "      <th></th>\n",
       "      <th></th>\n",
       "      <th></th>\n",
       "    </tr>\n",
       "  </thead>\n",
       "  <tbody>\n",
       "    <tr>\n",
       "      <th>0</th>\n",
       "      <td>1.0</td>\n",
       "      <td>-0.098</td>\n",
       "      <td>2.165</td>\n",
       "      <td>0.681</td>\n",
       "      <td>-0.614</td>\n",
       "      <td>1.309</td>\n",
       "      <td>-0.455</td>\n",
       "      <td>-0.236</td>\n",
       "      <td>0.276</td>\n",
       "      <td>-2.246</td>\n",
       "      <td>...</td>\n",
       "      <td>0.867</td>\n",
       "      <td>1.347</td>\n",
       "      <td>0.504</td>\n",
       "      <td>-0.649</td>\n",
       "      <td>0.672</td>\n",
       "      <td>-2.097</td>\n",
       "      <td>1.051</td>\n",
       "      <td>-0.414</td>\n",
       "      <td>1.038</td>\n",
       "      <td>-1.065</td>\n",
       "    </tr>\n",
       "    <tr>\n",
       "      <th>1</th>\n",
       "      <td>0.0</td>\n",
       "      <td>1.081</td>\n",
       "      <td>-0.973</td>\n",
       "      <td>-0.383</td>\n",
       "      <td>0.326</td>\n",
       "      <td>-0.428</td>\n",
       "      <td>0.317</td>\n",
       "      <td>1.172</td>\n",
       "      <td>0.352</td>\n",
       "      <td>0.004</td>\n",
       "      <td>...</td>\n",
       "      <td>-0.165</td>\n",
       "      <td>-1.695</td>\n",
       "      <td>-1.257</td>\n",
       "      <td>1.359</td>\n",
       "      <td>-0.808</td>\n",
       "      <td>-1.624</td>\n",
       "      <td>-0.458</td>\n",
       "      <td>-1.099</td>\n",
       "      <td>-0.936</td>\n",
       "      <td>0.973</td>\n",
       "    </tr>\n",
       "    <tr>\n",
       "      <th>2</th>\n",
       "      <td>1.0</td>\n",
       "      <td>-0.523</td>\n",
       "      <td>-0.089</td>\n",
       "      <td>-0.348</td>\n",
       "      <td>0.148</td>\n",
       "      <td>-0.022</td>\n",
       "      <td>0.404</td>\n",
       "      <td>-0.023</td>\n",
       "      <td>-0.172</td>\n",
       "      <td>0.137</td>\n",
       "      <td>...</td>\n",
       "      <td>0.013</td>\n",
       "      <td>0.263</td>\n",
       "      <td>-1.222</td>\n",
       "      <td>0.726</td>\n",
       "      <td>1.444</td>\n",
       "      <td>-1.165</td>\n",
       "      <td>-1.544</td>\n",
       "      <td>0.004</td>\n",
       "      <td>0.800</td>\n",
       "      <td>-1.211</td>\n",
       "    </tr>\n",
       "  </tbody>\n",
       "</table>\n",
       "<p>3 rows × 301 columns</p>\n",
       "</div>"
      ],
      "text/plain": [
       "    target      0      1      2      3      4      5      6      7      8  \\\n",
       "id                                                                          \n",
       "0      1.0 -0.098  2.165  0.681 -0.614  1.309 -0.455 -0.236  0.276 -2.246   \n",
       "1      0.0  1.081 -0.973 -0.383  0.326 -0.428  0.317  1.172  0.352  0.004   \n",
       "2      1.0 -0.523 -0.089 -0.348  0.148 -0.022  0.404 -0.023 -0.172  0.137   \n",
       "\n",
       "    ...    290    291    292    293    294    295    296    297    298    299  \n",
       "id  ...                                                                        \n",
       "0   ...  0.867  1.347  0.504 -0.649  0.672 -2.097  1.051 -0.414  1.038 -1.065  \n",
       "1   ... -0.165 -1.695 -1.257  1.359 -0.808 -1.624 -0.458 -1.099 -0.936  0.973  \n",
       "2   ...  0.013  0.263 -1.222  0.726  1.444 -1.165 -1.544  0.004  0.800 -1.211  \n",
       "\n",
       "[3 rows x 301 columns]"
      ]
     },
     "metadata": {},
     "output_type": "display_data"
    },
    {
     "name": "stdout",
     "output_type": "stream",
     "text": [
      "<class 'pandas.core.frame.DataFrame'>\n",
      "Int64Index: 250 entries, 0 to 249\n",
      "Columns: 301 entries, target to 299\n",
      "dtypes: float64(301)\n",
      "memory usage: 589.8 KB\n"
     ]
    },
    {
     "data": {
      "text/plain": [
       "None"
      ]
     },
     "metadata": {},
     "output_type": "display_data"
    }
   ],
   "source": [
    "display(data.head(3))\n",
    "display(data.info())"
   ]
  },
  {
   "cell_type": "code",
   "execution_count": 5,
   "metadata": {},
   "outputs": [
    {
     "data": {
      "text/html": [
       "<div>\n",
       "<style scoped>\n",
       "    .dataframe tbody tr th:only-of-type {\n",
       "        vertical-align: middle;\n",
       "    }\n",
       "\n",
       "    .dataframe tbody tr th {\n",
       "        vertical-align: top;\n",
       "    }\n",
       "\n",
       "    .dataframe thead th {\n",
       "        text-align: right;\n",
       "    }\n",
       "</style>\n",
       "<table border=\"1\" class=\"dataframe\">\n",
       "  <thead>\n",
       "    <tr style=\"text-align: right;\">\n",
       "      <th></th>\n",
       "      <th>target</th>\n",
       "      <th>0</th>\n",
       "      <th>1</th>\n",
       "      <th>2</th>\n",
       "      <th>3</th>\n",
       "      <th>4</th>\n",
       "      <th>5</th>\n",
       "      <th>6</th>\n",
       "      <th>7</th>\n",
       "      <th>8</th>\n",
       "      <th>...</th>\n",
       "      <th>290</th>\n",
       "      <th>291</th>\n",
       "      <th>292</th>\n",
       "      <th>293</th>\n",
       "      <th>294</th>\n",
       "      <th>295</th>\n",
       "      <th>296</th>\n",
       "      <th>297</th>\n",
       "      <th>298</th>\n",
       "      <th>299</th>\n",
       "    </tr>\n",
       "  </thead>\n",
       "  <tbody>\n",
       "    <tr>\n",
       "      <th>count</th>\n",
       "      <td>250.000000</td>\n",
       "      <td>250.000000</td>\n",
       "      <td>250.000000</td>\n",
       "      <td>250.000000</td>\n",
       "      <td>250.000000</td>\n",
       "      <td>250.000000</td>\n",
       "      <td>250.000000</td>\n",
       "      <td>250.000000</td>\n",
       "      <td>250.000000</td>\n",
       "      <td>250.000000</td>\n",
       "      <td>...</td>\n",
       "      <td>250.000000</td>\n",
       "      <td>250.000000</td>\n",
       "      <td>250.000000</td>\n",
       "      <td>250.000000</td>\n",
       "      <td>250.000000</td>\n",
       "      <td>250.000000</td>\n",
       "      <td>250.000000</td>\n",
       "      <td>250.000000</td>\n",
       "      <td>250.000000</td>\n",
       "      <td>250.000000</td>\n",
       "    </tr>\n",
       "    <tr>\n",
       "      <th>mean</th>\n",
       "      <td>0.640000</td>\n",
       "      <td>0.023292</td>\n",
       "      <td>-0.026872</td>\n",
       "      <td>0.167404</td>\n",
       "      <td>0.001904</td>\n",
       "      <td>0.001588</td>\n",
       "      <td>-0.007304</td>\n",
       "      <td>0.032052</td>\n",
       "      <td>0.078412</td>\n",
       "      <td>-0.036920</td>\n",
       "      <td>...</td>\n",
       "      <td>0.044652</td>\n",
       "      <td>0.126344</td>\n",
       "      <td>0.018436</td>\n",
       "      <td>-0.012092</td>\n",
       "      <td>-0.065720</td>\n",
       "      <td>-0.106112</td>\n",
       "      <td>0.046472</td>\n",
       "      <td>0.006452</td>\n",
       "      <td>0.009372</td>\n",
       "      <td>-0.128952</td>\n",
       "    </tr>\n",
       "    <tr>\n",
       "      <th>std</th>\n",
       "      <td>0.480963</td>\n",
       "      <td>0.998354</td>\n",
       "      <td>1.009314</td>\n",
       "      <td>1.021709</td>\n",
       "      <td>1.011751</td>\n",
       "      <td>1.035411</td>\n",
       "      <td>0.955700</td>\n",
       "      <td>1.006657</td>\n",
       "      <td>0.939731</td>\n",
       "      <td>0.963688</td>\n",
       "      <td>...</td>\n",
       "      <td>1.011416</td>\n",
       "      <td>0.972567</td>\n",
       "      <td>0.954229</td>\n",
       "      <td>0.960630</td>\n",
       "      <td>1.057414</td>\n",
       "      <td>1.038389</td>\n",
       "      <td>0.967661</td>\n",
       "      <td>0.998984</td>\n",
       "      <td>1.008099</td>\n",
       "      <td>0.971219</td>\n",
       "    </tr>\n",
       "    <tr>\n",
       "      <th>min</th>\n",
       "      <td>0.000000</td>\n",
       "      <td>-2.319000</td>\n",
       "      <td>-2.931000</td>\n",
       "      <td>-2.477000</td>\n",
       "      <td>-2.359000</td>\n",
       "      <td>-2.566000</td>\n",
       "      <td>-2.845000</td>\n",
       "      <td>-2.976000</td>\n",
       "      <td>-3.444000</td>\n",
       "      <td>-2.768000</td>\n",
       "      <td>...</td>\n",
       "      <td>-2.804000</td>\n",
       "      <td>-2.443000</td>\n",
       "      <td>-2.757000</td>\n",
       "      <td>-2.466000</td>\n",
       "      <td>-3.287000</td>\n",
       "      <td>-3.072000</td>\n",
       "      <td>-2.634000</td>\n",
       "      <td>-2.776000</td>\n",
       "      <td>-3.211000</td>\n",
       "      <td>-3.500000</td>\n",
       "    </tr>\n",
       "    <tr>\n",
       "      <th>25%</th>\n",
       "      <td>0.000000</td>\n",
       "      <td>-0.644750</td>\n",
       "      <td>-0.739750</td>\n",
       "      <td>-0.425250</td>\n",
       "      <td>-0.686500</td>\n",
       "      <td>-0.659000</td>\n",
       "      <td>-0.643750</td>\n",
       "      <td>-0.675000</td>\n",
       "      <td>-0.550750</td>\n",
       "      <td>-0.689500</td>\n",
       "      <td>...</td>\n",
       "      <td>-0.617000</td>\n",
       "      <td>-0.510500</td>\n",
       "      <td>-0.535750</td>\n",
       "      <td>-0.657000</td>\n",
       "      <td>-0.818500</td>\n",
       "      <td>-0.821000</td>\n",
       "      <td>-0.605500</td>\n",
       "      <td>-0.751250</td>\n",
       "      <td>-0.550000</td>\n",
       "      <td>-0.754250</td>\n",
       "    </tr>\n",
       "    <tr>\n",
       "      <th>50%</th>\n",
       "      <td>1.000000</td>\n",
       "      <td>-0.015500</td>\n",
       "      <td>0.057000</td>\n",
       "      <td>0.184000</td>\n",
       "      <td>-0.016500</td>\n",
       "      <td>-0.023000</td>\n",
       "      <td>0.037500</td>\n",
       "      <td>0.060500</td>\n",
       "      <td>0.183500</td>\n",
       "      <td>-0.012500</td>\n",
       "      <td>...</td>\n",
       "      <td>0.067500</td>\n",
       "      <td>0.091000</td>\n",
       "      <td>0.057500</td>\n",
       "      <td>-0.021000</td>\n",
       "      <td>-0.009000</td>\n",
       "      <td>-0.079500</td>\n",
       "      <td>0.009500</td>\n",
       "      <td>0.005500</td>\n",
       "      <td>-0.009000</td>\n",
       "      <td>-0.132500</td>\n",
       "    </tr>\n",
       "    <tr>\n",
       "      <th>75%</th>\n",
       "      <td>1.000000</td>\n",
       "      <td>0.677000</td>\n",
       "      <td>0.620750</td>\n",
       "      <td>0.805000</td>\n",
       "      <td>0.720000</td>\n",
       "      <td>0.735000</td>\n",
       "      <td>0.660500</td>\n",
       "      <td>0.783250</td>\n",
       "      <td>0.766250</td>\n",
       "      <td>0.635000</td>\n",
       "      <td>...</td>\n",
       "      <td>0.797250</td>\n",
       "      <td>0.804250</td>\n",
       "      <td>0.631500</td>\n",
       "      <td>0.650250</td>\n",
       "      <td>0.739500</td>\n",
       "      <td>0.493000</td>\n",
       "      <td>0.683000</td>\n",
       "      <td>0.794250</td>\n",
       "      <td>0.654250</td>\n",
       "      <td>0.503250</td>\n",
       "    </tr>\n",
       "    <tr>\n",
       "      <th>max</th>\n",
       "      <td>1.000000</td>\n",
       "      <td>2.567000</td>\n",
       "      <td>2.419000</td>\n",
       "      <td>3.392000</td>\n",
       "      <td>2.771000</td>\n",
       "      <td>2.901000</td>\n",
       "      <td>2.793000</td>\n",
       "      <td>2.546000</td>\n",
       "      <td>2.846000</td>\n",
       "      <td>2.512000</td>\n",
       "      <td>...</td>\n",
       "      <td>2.865000</td>\n",
       "      <td>2.801000</td>\n",
       "      <td>2.736000</td>\n",
       "      <td>2.596000</td>\n",
       "      <td>2.226000</td>\n",
       "      <td>3.131000</td>\n",
       "      <td>3.236000</td>\n",
       "      <td>2.626000</td>\n",
       "      <td>3.530000</td>\n",
       "      <td>2.771000</td>\n",
       "    </tr>\n",
       "  </tbody>\n",
       "</table>\n",
       "<p>8 rows × 301 columns</p>\n",
       "</div>"
      ],
      "text/plain": [
       "           target           0           1           2           3           4  \\\n",
       "count  250.000000  250.000000  250.000000  250.000000  250.000000  250.000000   \n",
       "mean     0.640000    0.023292   -0.026872    0.167404    0.001904    0.001588   \n",
       "std      0.480963    0.998354    1.009314    1.021709    1.011751    1.035411   \n",
       "min      0.000000   -2.319000   -2.931000   -2.477000   -2.359000   -2.566000   \n",
       "25%      0.000000   -0.644750   -0.739750   -0.425250   -0.686500   -0.659000   \n",
       "50%      1.000000   -0.015500    0.057000    0.184000   -0.016500   -0.023000   \n",
       "75%      1.000000    0.677000    0.620750    0.805000    0.720000    0.735000   \n",
       "max      1.000000    2.567000    2.419000    3.392000    2.771000    2.901000   \n",
       "\n",
       "                5           6           7           8  ...         290  \\\n",
       "count  250.000000  250.000000  250.000000  250.000000  ...  250.000000   \n",
       "mean    -0.007304    0.032052    0.078412   -0.036920  ...    0.044652   \n",
       "std      0.955700    1.006657    0.939731    0.963688  ...    1.011416   \n",
       "min     -2.845000   -2.976000   -3.444000   -2.768000  ...   -2.804000   \n",
       "25%     -0.643750   -0.675000   -0.550750   -0.689500  ...   -0.617000   \n",
       "50%      0.037500    0.060500    0.183500   -0.012500  ...    0.067500   \n",
       "75%      0.660500    0.783250    0.766250    0.635000  ...    0.797250   \n",
       "max      2.793000    2.546000    2.846000    2.512000  ...    2.865000   \n",
       "\n",
       "              291         292         293         294         295         296  \\\n",
       "count  250.000000  250.000000  250.000000  250.000000  250.000000  250.000000   \n",
       "mean     0.126344    0.018436   -0.012092   -0.065720   -0.106112    0.046472   \n",
       "std      0.972567    0.954229    0.960630    1.057414    1.038389    0.967661   \n",
       "min     -2.443000   -2.757000   -2.466000   -3.287000   -3.072000   -2.634000   \n",
       "25%     -0.510500   -0.535750   -0.657000   -0.818500   -0.821000   -0.605500   \n",
       "50%      0.091000    0.057500   -0.021000   -0.009000   -0.079500    0.009500   \n",
       "75%      0.804250    0.631500    0.650250    0.739500    0.493000    0.683000   \n",
       "max      2.801000    2.736000    2.596000    2.226000    3.131000    3.236000   \n",
       "\n",
       "              297         298         299  \n",
       "count  250.000000  250.000000  250.000000  \n",
       "mean     0.006452    0.009372   -0.128952  \n",
       "std      0.998984    1.008099    0.971219  \n",
       "min     -2.776000   -3.211000   -3.500000  \n",
       "25%     -0.751250   -0.550000   -0.754250  \n",
       "50%      0.005500   -0.009000   -0.132500  \n",
       "75%      0.794250    0.654250    0.503250  \n",
       "max      2.626000    3.530000    2.771000  \n",
       "\n",
       "[8 rows x 301 columns]"
      ]
     },
     "metadata": {},
     "output_type": "display_data"
    }
   ],
   "source": [
    "display(data.describe())"
   ]
  },
  {
   "cell_type": "code",
   "execution_count": 6,
   "metadata": {},
   "outputs": [
    {
     "data": {
      "text/plain": [
       "0"
      ]
     },
     "execution_count": 6,
     "metadata": {},
     "output_type": "execute_result"
    }
   ],
   "source": [
    "# Check NA\n",
    "data.isna().any().sum()"
   ]
  },
  {
   "cell_type": "code",
   "execution_count": 7,
   "metadata": {},
   "outputs": [
    {
     "data": {
      "text/plain": [
       "1.0    160\n",
       "0.0     90\n",
       "Name: target, dtype: int64"
      ]
     },
     "execution_count": 7,
     "metadata": {},
     "output_type": "execute_result"
    }
   ],
   "source": [
    "# Check class distribution\n",
    "data[\"target\"].value_counts()"
   ]
  },
  {
   "cell_type": "markdown",
   "metadata": {},
   "source": [
    "#### Data params"
   ]
  },
  {
   "cell_type": "code",
   "execution_count": 8,
   "metadata": {},
   "outputs": [
    {
     "name": "stdout",
     "output_type": "stream",
     "text": [
      ">>>Mean value test<<<\n",
      "Feature 228: mean isnt equal to zero. Mean: -0.2\n",
      "\n",
      ">>>Std value test<<<\n",
      "\n",
      ">>>Normality test<<<\n",
      "Feature 2 has non-normal distribution. p-value: 0.006165\n",
      "Feature 25 has non-normal distribution. p-value: 0.0307\n",
      "Feature 33 has non-normal distribution. p-value: 0.02734\n",
      "Feature 34 has non-normal distribution. p-value: 0.008452\n",
      "Feature 37 has non-normal distribution. p-value: 0.003639\n",
      "Feature 119 has non-normal distribution. p-value: 0.02118\n",
      "Feature 147 has non-normal distribution. p-value: 0.01391\n",
      "Feature 157 has non-normal distribution. p-value: 0.03899\n",
      "Feature 167 has non-normal distribution. p-value: 0.02312\n",
      "Feature 186 has non-normal distribution. p-value: 0.01226\n",
      "Feature 193 has non-normal distribution. p-value: 0.03651\n",
      "Feature 228 has non-normal distribution. p-value: 0.01123\n",
      "Feature 234 has non-normal distribution. p-value: 0.01942\n",
      "Feature 241 has non-normal distribution. p-value: 0.01978\n",
      "Feature 261 has non-normal distribution. p-value: 0.01588\n",
      "Feature 282 has non-normal distribution. p-value: 0.03719\n",
      "\n",
      ">>>Correlation test<<<\n",
      "Features with hi correlations: []\n",
      "\n",
      ">>>Samples with outliars (std>3)<<<\n",
      "Total: 77\n"
     ]
    }
   ],
   "source": [
    "df = data.drop([\"target\"], axis=1).copy()\n",
    "print(\">>>Mean value test<<<\")\n",
    "for col in df.columns:\n",
    "    feature = df.loc[:, col]\n",
    "    f_desc = feature.describe()\n",
    "    if np.abs(f_desc[\"mean\"])>0.2:\n",
    "        print(\"Feature {0}: mean isnt equal to zero. Mean: {1:.3}\".format(col, f_desc[\"mean\"]))\n",
    "        \n",
    "print(\"\\n>>>Std value test<<<\")\n",
    "for col in df.columns:\n",
    "    feature = df.loc[:, col]\n",
    "    f_desc = feature.describe()\n",
    "    if np.abs(1 - f_desc[\"std\"])>0.2:\n",
    "        print(\"Feature {0}: std isnt equal to 1. Std: {1:.3}\".format(col, f_desc[\"std\"]))\n",
    "\n",
    "print(\"\\n>>>Normality test<<<\")\n",
    "for col in df.columns:\n",
    "    feature = df.loc[:, col]\n",
    "    stat, p_val = stats.kstest(feature, 'norm')\n",
    "    if p_val<0.05:\n",
    "        print(\"Feature {0} has non-normal distribution. p-value: {1:.4}\".format(col, p_val))\n",
    "        \n",
    "print(\"\\n>>>Correlation test<<<\")   \n",
    "cm = df.corr()\n",
    "corr_matrix = df.corr().abs()\n",
    "high_corr_var=np.where(corr_matrix>0.5)\n",
    "high_corr_var=[(corr_matrix.columns[x],corr_matrix.columns[y]) for x,y in zip(*high_corr_var) if x!=y and x<y]\n",
    "print(\"Features with hi correlations: {}\".format(high_corr_var))\n",
    "    \n",
    "\n",
    "print(\"\\n>>>Samples with outliars (std>3)<<<\")   \n",
    "mask = df > 3\n",
    "mask = mask.any(axis=1)\n",
    "print(\"Total: %d\" % mask.sum())"
   ]
  },
  {
   "cell_type": "markdown",
   "metadata": {},
   "source": [
    "## 👉 Conclusion"
   ]
  },
  {
   "cell_type": "markdown",
   "metadata": {},
   "source": [
    "- The dataset has a small number of samples (250), but a large number of features (300).\n",
    " - Classes are not balanced.\n",
    " - There are no missing values.\n",
    " - All attributes are real.\n",
    " - No high cross-correlation features.\n",
    " - Features are standardized - mean = 0, standard deviation = 1.\n",
    " - 94% of features have a normal distribution.\n",
    " - 87 samples contain deviations of more than 3 sigma in at least one feature. Removing them will greatly reduce the sample size.\n",
    " \n",
    "We need to take measures to prevent overfitting - we will reduce the dimension and apply cross-validation.\n",
    "Since almost all features have a normal distribution, we can apply statistical tests to test hypotheses.\n",
    "\n",
    "Not all machine learning models can be used when there are not enough samples (eg XGBoost). This somewhat limits the choice.\n",
    " "
   ]
  },
  {
   "cell_type": "markdown",
   "metadata": {},
   "source": [
    "# Dataset"
   ]
  },
  {
   "cell_type": "code",
   "execution_count": 9,
   "metadata": {},
   "outputs": [],
   "source": [
    "y = data[\"target\"].astype(int)\n",
    "X = data.drop([\"target\"], axis=1)\n",
    "\n",
    "#X_train, X_test, y_train, y_test = train_test_split(X, y, test_size=0.2, random_state=random_state)\n",
    "#poly = PolynomialFeatures(interaction_only=True)\n",
    "#X_poly = pd.DataFrame(poly.fit_transform(X), index=X.index)"
   ]
  },
  {
   "cell_type": "markdown",
   "metadata": {},
   "source": [
    "# Prepare the infrastructure for training"
   ]
  },
  {
   "cell_type": "markdown",
   "metadata": {},
   "source": [
    "- Because we have a very small data sample, then we probably won’t be able to split the dataset into train, validation and test samples. We will work with the results of cross-validation. Let's apply RepeatedStratifiedKFold to get more stable results.\n",
    "\n",
    "- To exclude \"Data Leakage\", all data transformations will be performed after splitting into train and test through the pipeline.\n",
    "\n",
    "- To search for the optimal values of hyperparameters, we use hyperOpt."
   ]
  },
  {
   "cell_type": "code",
   "execution_count": 10,
   "metadata": {},
   "outputs": [],
   "source": [
    "from hyperopt import fmin, tpe, hp, STATUS_OK, Trials, space_eval\n",
    "from hyperopt import rand\n",
    "from functools import partial\n",
    "from sklearn.pipeline import Pipeline \n",
    "from sklearn.model_selection import RepeatedStratifiedKFold\n",
    "from sklearn.preprocessing import StandardScaler\n",
    "from sklearn.metrics import roc_auc_score\n",
    "\n",
    "#from sklearn.model_selection import train_test_split, StratifiedKFold, StratifiedShuffleSplit, \n",
    "#from sklearn.model_selection import cross_val_score, cross_val_predict\n",
    "#from sklearn.preprocessing import RobustScaler, MinMaxScaler, StandardScaler, Normalizer"
   ]
  },
  {
   "cell_type": "code",
   "execution_count": 11,
   "metadata": {},
   "outputs": [],
   "source": [
    "def pipe_factory_basic(space, Model):\n",
    "    model = Model(**space[\"model\"]) \n",
    "    scaler = StandardScaler()\n",
    "    pipe = Pipeline([(\"scaler\", scaler), ('model', model)])\n",
    "    return pipe"
   ]
  },
  {
   "cell_type": "code",
   "execution_count": 12,
   "metadata": {},
   "outputs": [],
   "source": [
    "def objective(space, X, y, Model, pipe_factory):\n",
    "    pipe = pipe_factory(space, Model)\n",
    "    rskf = RepeatedStratifiedKFold(n_splits=10, n_repeats=5, random_state=0)\n",
    "    scores = []\n",
    "    for train_index, test_index in rskf.split(X, y):\n",
    "        X_train, X_test = X.iloc[train_index], X.iloc[test_index]\n",
    "        y_train, y_test = y.iloc[train_index], y.iloc[test_index]\n",
    "        pipe.fit(X_train, y_train)\n",
    "        y_pred = pipe.predict_proba(X_test)\n",
    "        scores.append(-roc_auc_score(y_test, y_pred[:, 1:]))\n",
    "    return {'loss': np.mean(scores), 'status': STATUS_OK, \"pipe\": pipe}\n",
    "\n",
    "def optimize_hyperparam(X, y, Model, pipe_factory, space_model, space_obj, iters=50):\n",
    "    print(Model.__name__)\n",
    "    trials = Trials()\n",
    "    space = {\"model\": space_model, \"obj\": space_obj}\n",
    "    fmin_objective = partial(objective, X=X, y=y, Model=Model, pipe_factory=pipe_factory)\n",
    "    best = fmin(fn=fmin_objective, \n",
    "                space=space, \n",
    "                trials=trials, \n",
    "                algo=tpe.suggest, \n",
    "                max_evals=iters, \n",
    "                rstate=np.random.RandomState(random_state),\n",
    "                verbose=1)\n",
    "    print(\"----------------\")\n",
    "    best_params = space_eval(space, best)\n",
    "    result = {\n",
    "        \"pipe\": pipe_factory(best_params, Model).fit(X, y),\n",
    "        \"details\":{\n",
    "            \"pipe_factory\": pipe_factory, \n",
    "            \"model\": Model,\n",
    "            \"params\": best_params,\n",
    "        }\n",
    "    }\n",
    "    \n",
    "    return result"
   ]
  },
  {
   "cell_type": "code",
   "execution_count": 13,
   "metadata": {},
   "outputs": [],
   "source": [
    "def submission(trained, X_test, suffix=\"\"):\n",
    "    y_pred = trained[\"pipe\"].predict_proba(X_test)\n",
    "    \n",
    "    subm = pd.read_csv(path + \"sample_submission.csv\", index_col=\"id\")\n",
    "    subm[\"target\"] = y_pred[:, 1]\n",
    "    sumbission_name = \"Subm - {0} | {1} | {2}\".format(\n",
    "        trained[\"details\"][\"model\"].__name__, \n",
    "        trained[\"details\"][\"pipe_factory\"].__name__,\n",
    "        suffix)\n",
    "    subm.to_csv(sumbission_name+\".csv\")\n",
    "    return subm\n",
    "    "
   ]
  },
  {
   "cell_type": "markdown",
   "metadata": {},
   "source": [
    "Let's try some models. Let's declare the parameter space for finding the optimal ones."
   ]
  },
  {
   "cell_type": "code",
   "execution_count": 14,
   "metadata": {},
   "outputs": [],
   "source": [
    "from sklearn.linear_model import LogisticRegression\n",
    "from sklearn.ensemble import RandomForestClassifier, AdaBoostClassifier\n",
    "from sklearn.neighbors import KNeighborsClassifier\n",
    "from sklearn.svm import SVC\n",
    "import xgboost as xgb"
   ]
  },
  {
   "cell_type": "code",
   "execution_count": 15,
   "metadata": {},
   "outputs": [],
   "source": [
    "\n",
    "lr_params_l2 = {\n",
    "    'penalty': 'l2',\n",
    "    'solver': 'lbfgs',\n",
    "    'C': hp.uniform('C', 0.00001,10),\n",
    "    \"class_weight\":\"balanced\", \n",
    "    \"random_state\":random_state\n",
    "}\n",
    "\n",
    "lr_params_l1 = {\n",
    "    'penalty': 'l1',\n",
    "    'solver': 'liblinear',\n",
    "    'C': hp.uniform('C', 0.00001,10),\n",
    "    \"class_weight\":\"balanced\", \n",
    "    \"random_state\":random_state\n",
    "}\n",
    "\n",
    "knc_params = {\n",
    "    'n_neighbors': hp.choice('n_neighbors',np.arange(2, 10)),\n",
    "    'weights': hp.choice('weights',['uniform', 'distance']),\n",
    "    'p': hp.choice('p',np.arange(1, 4)),\n",
    "}\n",
    "\n",
    "rfc_params = {\n",
    "    'n_estimators': hp.choice('n_estimators',np.arange(5,150)),\n",
    "    'criterion': hp.choice('criterion',[\"gini\", \"entropy\"]),\n",
    "    'max_depth': hp.choice('max_depth',np.arange(1,15)),\n",
    "    'min_samples_split': hp.choice('min_samples_split',np.arange(2,10)),\n",
    "    \"class_weight\":\"balanced\", \n",
    "    \"random_state\":random_state,\n",
    "    \"n_jobs\": -1\n",
    "}\n",
    "\n",
    "svc_params = {\n",
    "    'C': hp.uniform('C', 0.00001,10),\n",
    "    'kernel': hp.choice('kernel',[\"linear\", \"poly\", \"rbf\", \"sigmoid\"]),\n",
    "    'probability': True,\n",
    "    \"class_weight\":\"balanced\", \n",
    "    \"random_state\":random_state\n",
    "}"
   ]
  },
  {
   "cell_type": "code",
   "execution_count": 16,
   "metadata": {},
   "outputs": [
    {
     "name": "stdout",
     "output_type": "stream",
     "text": [
      "LogisticRegression\n",
      "100%|██████████| 50/50 [00:40<00:00,  1.23trial/s, best loss: -0.7972222222222223]\n",
      "----------------\n",
      "LogisticRegression\n",
      "100%|██████████| 50/50 [00:41<00:00,  1.21trial/s, best loss: -0.7505555555555554]\n",
      "----------------\n",
      "SVC\n",
      "100%|██████████| 50/50 [01:28<00:00,  1.76s/trial, best loss: -0.7541666666666665]\n",
      "----------------\n",
      "RandomForestClassifier\n",
      "100%|██████████| 50/50 [04:52<00:00,  5.84s/trial, best loss: -0.7240277777777776]\n",
      "----------------\n",
      "KNeighborsClassifier\n",
      "100%|██████████| 50/50 [00:41<00:00,  1.20trial/s, best loss: -0.6365972222222223]\n",
      "----------------\n"
     ]
    }
   ],
   "source": [
    "logreg_l1_basic = optimize_hyperparam(X, y, LogisticRegression, pipe_factory_basic, lr_params_l1, None)\n",
    "logreg_l2_basic = optimize_hyperparam(X, y, LogisticRegression, pipe_factory_basic, lr_params_l2, None)\n",
    "svc_basic = optimize_hyperparam(X, y, SVC, pipe_factory_basic, svc_params, None)\n",
    "rfc_basic = optimize_hyperparam(X, y, RandomForestClassifier, pipe_factory_basic, rfc_params, None)\n",
    "knc_basic = optimize_hyperparam(X, y, KNeighborsClassifier, pipe_factory_basic, knc_params, None)"
   ]
  },
  {
   "cell_type": "code",
   "execution_count": 18,
   "metadata": {},
   "outputs": [],
   "source": [
    "subm_logreg_l1_basic = submission(logreg_l1_basic, test, suffix=\"l1\") #0.848  \n",
    "subm_logreg_l2_basic = submission(logreg_l2_basic, test, suffix=\"l2\") #0.746\n",
    "subm_svc_basic = submission(svc_basic, test)   #0.743"
   ]
  },
  {
   "cell_type": "markdown",
   "metadata": {},
   "source": [
    "We got the basic prediction values.\n",
    "\n",
    "Suddenly, logistic regression with L1 regularizer gave the best result so far - both in terms of cross-validation numbers and on the test set (AUC 0.848)."
   ]
  },
  {
   "cell_type": "markdown",
   "metadata": {},
   "source": [
    "# Select k best"
   ]
  },
  {
   "cell_type": "code",
   "execution_count": 19,
   "metadata": {},
   "outputs": [],
   "source": [
    "from sklearn.feature_selection import SelectKBest, f_classif\n",
    "from sklearn.preprocessing import power_transform"
   ]
  },
  {
   "cell_type": "code",
   "execution_count": 20,
   "metadata": {},
   "outputs": [],
   "source": [
    "def pipe_factory_skb(space, Model):\n",
    "    model = Model(**space[\"model\"]) \n",
    "    scaler = StandardScaler()\n",
    "    skb = SelectKBest(f_classif, **space[\"obj\"])\n",
    "    pipe = Pipeline([(\"scaler\", scaler), ('skb', skb), ('model', model)])\n",
    "    return pipe\n",
    "\n",
    "skb_params = {\"k\": hp.choice('k',np.arange(10,50))}"
   ]
  },
  {
   "cell_type": "code",
   "execution_count": 21,
   "metadata": {},
   "outputs": [
    {
     "name": "stdout",
     "output_type": "stream",
     "text": [
      "LogisticRegression\n",
      "100%|██████████| 50/50 [00:29<00:00,  1.68trial/s, best loss: -0.8022222222222223]\n",
      "----------------\n",
      "LogisticRegression\n",
      "100%|██████████| 50/50 [00:34<00:00,  1.43trial/s, best loss: -0.7905555555555555]\n",
      "----------------\n",
      "SVC\n",
      "100%|██████████| 50/50 [01:02<00:00,  1.25s/trial, best loss: -0.7869444444444446]\n",
      "----------------\n",
      "RandomForestClassifier\n",
      "100%|██████████| 50/50 [04:28<00:00,  5.37s/trial, best loss: -0.7584722222222221]\n",
      "----------------\n",
      "KNeighborsClassifier\n",
      "100%|██████████| 50/50 [00:28<00:00,  1.77trial/s, best loss: -0.715486111111111] \n",
      "----------------\n"
     ]
    }
   ],
   "source": [
    "logreg_l1_skb = optimize_hyperparam(X, y, LogisticRegression, pipe_factory_skb, lr_params_l1, skb_params)\n",
    "logreg_l2_skb = optimize_hyperparam(X, y, LogisticRegression, pipe_factory_skb, lr_params_l2, skb_params)\n",
    "svc_skb = optimize_hyperparam(X, y, SVC, pipe_factory_skb, svc_params, skb_params)\n",
    "rfc_skb = optimize_hyperparam(X, y, RandomForestClassifier, pipe_factory_skb, rfc_params, skb_params)\n",
    "knc_skb = optimize_hyperparam(X, y, KNeighborsClassifier, pipe_factory_skb, knc_params, skb_params)"
   ]
  },
  {
   "cell_type": "code",
   "execution_count": 22,
   "metadata": {},
   "outputs": [],
   "source": [
    "subm_logreg_l1_skb = submission(logreg_l1_skb, test, suffix=\"l1\") #0.84  \n",
    "subm_logreg_l2_skb = submission(logreg_l2_skb, test, suffix=\"l2\") #0.816 \n",
    "subm_svc_skb = submission(svc_skb, test)  # 0.787"
   ]
  },
  {
   "cell_type": "markdown",
   "metadata": {},
   "source": [
    "On cross-validation, the score grew up, but when checking the results on kaggle.com, it slightly decreased."
   ]
  },
  {
   "cell_type": "markdown",
   "metadata": {},
   "source": [
    "# Polynomial features\n",
    "It turns out 45k features. When selecting by SelectKBest, we overfit."
   ]
  },
  {
   "cell_type": "markdown",
   "metadata": {},
   "source": [
    "# PCA\n",
    "Nothing interesting"
   ]
  },
  {
   "cell_type": "markdown",
   "metadata": {},
   "source": [
    "# Select from model"
   ]
  },
  {
   "cell_type": "code",
   "execution_count": 23,
   "metadata": {},
   "outputs": [],
   "source": [
    "from sklearn.feature_selection import SelectFromModel"
   ]
  },
  {
   "cell_type": "code",
   "execution_count": 24,
   "metadata": {},
   "outputs": [
    {
     "name": "stdout",
     "output_type": "stream",
     "text": [
      "LogisticRegression\n",
      "100%|██████████| 50/50 [00:32<00:00,  1.54trial/s, best loss: -0.8023611111111112]\n",
      "----------------\n",
      "LogisticRegression\n",
      "100%|██████████| 50/50 [00:37<00:00,  1.35trial/s, best loss: -0.7888888888888889]\n",
      "----------------\n",
      "SVC\n",
      "100%|██████████| 50/50 [01:16<00:00,  1.52s/trial, best loss: -0.7888888888888892]\n",
      "----------------\n",
      "RandomForestClassifier\n",
      "100%|██████████| 50/50 [04:25<00:00,  5.32s/trial, best loss: -0.7741666666666666]\n",
      "----------------\n",
      "KNeighborsClassifier\n",
      "100%|██████████| 50/50 [00:32<00:00,  1.56trial/s, best loss: -0.745763888888889] \n",
      "----------------\n"
     ]
    }
   ],
   "source": [
    "def pipe_factory_sfm(space, Model):\n",
    "    est = LogisticRegression(**logreg_l1_basic[\"details\"][\"params\"][\"model\"])\n",
    "    selector = SelectFromModel(estimator=est, **space[\"obj\"])\n",
    "    model = Model(**space[\"model\"]) \n",
    "    scaler = StandardScaler()\n",
    "    pipe = Pipeline([(\"scaler\", scaler), (\"selector\", selector),('model', model)])\n",
    "    return pipe\n",
    "\n",
    "sfm_params = {\"max_features\": hp.choice('max_features',np.arange(1,50))}\n",
    "\n",
    "logreg_l1_sfm = optimize_hyperparam(X, y, LogisticRegression, pipe_factory_sfm, lr_params_l1, sfm_params)\n",
    "logreg_l2_sfm = optimize_hyperparam(X, y, LogisticRegression, pipe_factory_sfm, lr_params_l2, sfm_params)\n",
    "svc_sfm = optimize_hyperparam(X, y, SVC, pipe_factory_sfm, svc_params, sfm_params)\n",
    "rfc_sfm = optimize_hyperparam(X, y, RandomForestClassifier, pipe_factory_sfm, rfc_params, sfm_params)\n",
    "knc_sfm = optimize_hyperparam(X, y, KNeighborsClassifier, pipe_factory_sfm, knc_params, sfm_params)"
   ]
  },
  {
   "cell_type": "code",
   "execution_count": 25,
   "metadata": {},
   "outputs": [],
   "source": [
    "subm_logreg_l1_sfm = submission(logreg_l1_sfm, test, suffix=\"l1\") #0.844\n",
    "subm_logreg_l2_sfm = submission(logreg_l2_sfm, test, suffix=\"l2\") #0.844\n",
    "subm_svc_skb = submission(svc_sfm, test)  # 0.845"
   ]
  },
  {
   "cell_type": "markdown",
   "metadata": {},
   "source": [
    "When selecting features from the logistic regression with the L1 regularizer, the cross-validation values did not change much, but the numbers on the test sample for the log regression (L2) and SVC grew up to the level of the log regression (L1)."
   ]
  },
  {
   "cell_type": "markdown",
   "metadata": {},
   "source": [
    "# Remove outliars"
   ]
  },
  {
   "cell_type": "code",
   "execution_count": 26,
   "metadata": {},
   "outputs": [],
   "source": [
    "def plot_hist(idx, X, y, offset=0, n_feats=6, n_cols=3):\n",
    "    n_rows = int(np.ceil(n_feats/n_cols))\n",
    "    fig, ax = plt.subplots(figsize=(13, 2.5*n_rows), ncols=n_cols, nrows=n_rows )\n",
    "    fig.tight_layout()\n",
    "    for i in range(n_feats):\n",
    "        feat = idx[i+offset*n_feats]\n",
    "        xi, yi = i//n_cols, i%n_cols   \n",
    "        if n_rows==1:\n",
    "            plt_idx = yi\n",
    "        else:\n",
    "            plt_idx = (xi, yi)\n",
    "        \n",
    "        ax[plt_idx] = sns.histplot(x=X.iloc[:, feat], hue=y, bins=30, element=\"step\", stat=\"density\", kde=True, ax=ax[plt_idx])  "
   ]
  },
  {
   "cell_type": "code",
   "execution_count": 27,
   "metadata": {},
   "outputs": [
    {
     "name": "stdout",
     "output_type": "stream",
     "text": [
      "[ 33  65 217  91 117 199  73 295 258 133]\n",
      "[ 0.63791379  0.45831498 -0.28484532 -0.26893168 -0.19290289]\n"
     ]
    }
   ],
   "source": [
    "est = LogisticRegression(**logreg_l1_basic['details']['params'][\"model\"]).fit(X,y)\n",
    "idx_lr = np.argsort(-np.abs(est.coef_[0]))\n",
    "print(idx_lr[:10])\n",
    "print(est.coef_[0][idx_lr[:5]])"
   ]
  },
  {
   "cell_type": "code",
   "execution_count": 28,
   "metadata": {
    "scrolled": false
   },
   "outputs": [
    {
     "data": {
      "image/png": "[encoded data removed]",
      "text/plain": [
       "<Figure size 936x540 with 9 Axes>"
      ]
     },
     "metadata": {
      "needs_background": "light"
     },
     "output_type": "display_data"
    }
   ],
   "source": [
    "plot_hist(idx_lr, X, y, offset=0, n_feats=9, n_cols=3)"
   ]
  },
  {
   "cell_type": "code",
   "execution_count": 29,
   "metadata": {},
   "outputs": [
    {
     "name": "stdout",
     "output_type": "stream",
     "text": [
      "10\n"
     ]
    }
   ],
   "source": [
    "drop_idx = []\n",
    "drop_idx += list(X[(y.values==1) & (X.loc[:, '33']<-2.5)].index)\n",
    "drop_idx += list(X[(y.values==1) & (X.loc[:, '65']<-2.5)].index)\n",
    "drop_idx += list(X[(y.values==1) & (X.loc[:, '217']>2.4)].index)\n",
    "drop_idx += list(X[(y.values==0) & (X.loc[:, '217']<-2.2)].index)\n",
    "drop_idx += list(X[(y.values==0) & (X.loc[:, '117']<-2.5)].index)\n",
    "drop_idx += list(X[(y.values==1) & (X.loc[:, '199']<-3)].index)\n",
    "drop_idx += list(X[(y.values==1) & (X.loc[:, '295']>2.5)].index)\n",
    "drop_idx += list(X[(y.values==1) & (X.loc[:, '258']>2.5)].index)\n",
    "\n",
    "print(len(set(drop_idx)))"
   ]
  },
  {
   "cell_type": "code",
   "execution_count": 30,
   "metadata": {},
   "outputs": [
    {
     "data": {
      "text/html": [
       "<div>\n",
       "<style scoped>\n",
       "    .dataframe tbody tr th:only-of-type {\n",
       "        vertical-align: middle;\n",
       "    }\n",
       "\n",
       "    .dataframe tbody tr th {\n",
       "        vertical-align: top;\n",
       "    }\n",
       "\n",
       "    .dataframe thead th {\n",
       "        text-align: right;\n",
       "    }\n",
       "</style>\n",
       "<table border=\"1\" class=\"dataframe\">\n",
       "  <thead>\n",
       "    <tr style=\"text-align: right;\">\n",
       "      <th></th>\n",
       "      <th>33</th>\n",
       "      <th>65</th>\n",
       "      <th>217</th>\n",
       "      <th>91</th>\n",
       "      <th>117</th>\n",
       "      <th>199</th>\n",
       "      <th>73</th>\n",
       "      <th>295</th>\n",
       "      <th>258</th>\n",
       "      <th>133</th>\n",
       "    </tr>\n",
       "    <tr>\n",
       "      <th>id</th>\n",
       "      <th></th>\n",
       "      <th></th>\n",
       "      <th></th>\n",
       "      <th></th>\n",
       "      <th></th>\n",
       "      <th></th>\n",
       "      <th></th>\n",
       "      <th></th>\n",
       "      <th></th>\n",
       "      <th></th>\n",
       "    </tr>\n",
       "  </thead>\n",
       "  <tbody>\n",
       "    <tr>\n",
       "      <th>23</th>\n",
       "      <td>-2.913</td>\n",
       "      <td>-0.927</td>\n",
       "      <td>1.020</td>\n",
       "      <td>0.347</td>\n",
       "      <td>0.668</td>\n",
       "      <td>1.670</td>\n",
       "      <td>-0.442</td>\n",
       "      <td>0.130</td>\n",
       "      <td>-1.498</td>\n",
       "      <td>-0.818</td>\n",
       "    </tr>\n",
       "    <tr>\n",
       "      <th>50</th>\n",
       "      <td>-1.048</td>\n",
       "      <td>-2.516</td>\n",
       "      <td>-0.010</td>\n",
       "      <td>0.406</td>\n",
       "      <td>0.681</td>\n",
       "      <td>-0.453</td>\n",
       "      <td>-0.084</td>\n",
       "      <td>-0.503</td>\n",
       "      <td>-0.311</td>\n",
       "      <td>-0.267</td>\n",
       "    </tr>\n",
       "    <tr>\n",
       "      <th>44</th>\n",
       "      <td>1.066</td>\n",
       "      <td>-0.279</td>\n",
       "      <td>2.434</td>\n",
       "      <td>-0.581</td>\n",
       "      <td>-1.998</td>\n",
       "      <td>0.929</td>\n",
       "      <td>-0.830</td>\n",
       "      <td>-0.580</td>\n",
       "      <td>-1.078</td>\n",
       "      <td>-0.966</td>\n",
       "    </tr>\n",
       "    <tr>\n",
       "      <th>153</th>\n",
       "      <td>-0.808</td>\n",
       "      <td>-0.219</td>\n",
       "      <td>-2.358</td>\n",
       "      <td>0.383</td>\n",
       "      <td>-0.051</td>\n",
       "      <td>-0.713</td>\n",
       "      <td>-0.379</td>\n",
       "      <td>1.007</td>\n",
       "      <td>0.841</td>\n",
       "      <td>-1.537</td>\n",
       "    </tr>\n",
       "    <tr>\n",
       "      <th>181</th>\n",
       "      <td>-0.952</td>\n",
       "      <td>-1.182</td>\n",
       "      <td>0.450</td>\n",
       "      <td>1.424</td>\n",
       "      <td>-2.690</td>\n",
       "      <td>-0.131</td>\n",
       "      <td>-1.468</td>\n",
       "      <td>0.670</td>\n",
       "      <td>2.253</td>\n",
       "      <td>-1.299</td>\n",
       "    </tr>\n",
       "    <tr>\n",
       "      <th>245</th>\n",
       "      <td>-1.416</td>\n",
       "      <td>-0.330</td>\n",
       "      <td>0.223</td>\n",
       "      <td>0.369</td>\n",
       "      <td>-4.270</td>\n",
       "      <td>0.061</td>\n",
       "      <td>0.274</td>\n",
       "      <td>-0.243</td>\n",
       "      <td>-1.359</td>\n",
       "      <td>0.204</td>\n",
       "    </tr>\n",
       "    <tr>\n",
       "      <th>146</th>\n",
       "      <td>0.348</td>\n",
       "      <td>0.002</td>\n",
       "      <td>-1.185</td>\n",
       "      <td>-0.561</td>\n",
       "      <td>-0.917</td>\n",
       "      <td>-3.521</td>\n",
       "      <td>-0.119</td>\n",
       "      <td>0.023</td>\n",
       "      <td>-0.324</td>\n",
       "      <td>1.278</td>\n",
       "    </tr>\n",
       "    <tr>\n",
       "      <th>152</th>\n",
       "      <td>0.613</td>\n",
       "      <td>-0.352</td>\n",
       "      <td>-1.097</td>\n",
       "      <td>-1.544</td>\n",
       "      <td>-1.707</td>\n",
       "      <td>-3.165</td>\n",
       "      <td>0.214</td>\n",
       "      <td>-0.798</td>\n",
       "      <td>-0.170</td>\n",
       "      <td>-0.184</td>\n",
       "    </tr>\n",
       "    <tr>\n",
       "      <th>112</th>\n",
       "      <td>1.535</td>\n",
       "      <td>0.294</td>\n",
       "      <td>2.100</td>\n",
       "      <td>-1.352</td>\n",
       "      <td>-0.674</td>\n",
       "      <td>0.747</td>\n",
       "      <td>-0.149</td>\n",
       "      <td>2.902</td>\n",
       "      <td>0.143</td>\n",
       "      <td>0.340</td>\n",
       "    </tr>\n",
       "    <tr>\n",
       "      <th>125</th>\n",
       "      <td>1.011</td>\n",
       "      <td>-1.141</td>\n",
       "      <td>-1.510</td>\n",
       "      <td>-0.136</td>\n",
       "      <td>-1.539</td>\n",
       "      <td>0.240</td>\n",
       "      <td>-1.117</td>\n",
       "      <td>1.383</td>\n",
       "      <td>2.774</td>\n",
       "      <td>-0.405</td>\n",
       "    </tr>\n",
       "  </tbody>\n",
       "</table>\n",
       "</div>"
      ],
      "text/plain": [
       "        33     65    217     91    117    199     73    295    258    133\n",
       "id                                                                       \n",
       "23  -2.913 -0.927  1.020  0.347  0.668  1.670 -0.442  0.130 -1.498 -0.818\n",
       "50  -1.048 -2.516 -0.010  0.406  0.681 -0.453 -0.084 -0.503 -0.311 -0.267\n",
       "44   1.066 -0.279  2.434 -0.581 -1.998  0.929 -0.830 -0.580 -1.078 -0.966\n",
       "153 -0.808 -0.219 -2.358  0.383 -0.051 -0.713 -0.379  1.007  0.841 -1.537\n",
       "181 -0.952 -1.182  0.450  1.424 -2.690 -0.131 -1.468  0.670  2.253 -1.299\n",
       "245 -1.416 -0.330  0.223  0.369 -4.270  0.061  0.274 -0.243 -1.359  0.204\n",
       "146  0.348  0.002 -1.185 -0.561 -0.917 -3.521 -0.119  0.023 -0.324  1.278\n",
       "152  0.613 -0.352 -1.097 -1.544 -1.707 -3.165  0.214 -0.798 -0.170 -0.184\n",
       "112  1.535  0.294  2.100 -1.352 -0.674  0.747 -0.149  2.902  0.143  0.340\n",
       "125  1.011 -1.141 -1.510 -0.136 -1.539  0.240 -1.117  1.383  2.774 -0.405"
      ]
     },
     "execution_count": 30,
     "metadata": {},
     "output_type": "execute_result"
    }
   ],
   "source": [
    "X.loc[drop_idx, idx_lr[:10].astype(str)]"
   ]
  },
  {
   "cell_type": "code",
   "execution_count": 31,
   "metadata": {},
   "outputs": [
    {
     "name": "stdout",
     "output_type": "stream",
     "text": [
      "LogisticRegression\n",
      "100%|██████████| 50/50 [00:37<00:00,  1.32trial/s, best loss: -0.8229074074074074]\n",
      "----------------\n"
     ]
    }
   ],
   "source": [
    "X3 = X.drop(set(drop_idx))\n",
    "y3 = y.drop(set(drop_idx))\n",
    "\n",
    "logreg_l1_basic_x3 = optimize_hyperparam(X3, y3, LogisticRegression, pipe_factory_basic, lr_params_l1, None)\n",
    "subm_logreg_l1_basic_x3 = submission(logreg_l1_basic_x3, test, suffix=\"l1-outliers_x3\") #0.848"
   ]
  },
  {
   "cell_type": "markdown",
   "metadata": {},
   "source": [
    "Careful removal of values that are out of the general range allowed us to slightly increase the AUC on cross-validation. And did not lead to changes in the test sample.\n",
    "\n",
    "Let's leave it like that. Further \"cleansing\" can go to the detriment."
   ]
  },
  {
   "cell_type": "code",
   "execution_count": null,
   "metadata": {},
   "outputs": [],
   "source": []
  }
 ],
 "metadata": {
  "celltoolbar": "Отсутствует",
  "kernelspec": {
   "display_name": "Python 3",
   "language": "python",
   "name": "python3"
  },
  "language_info": {
   "codemirror_mode": {
    "name": "ipython",
    "version": 3
   },
   "file_extension": ".py",
   "mimetype": "text/x-python",
   "name": "python",
   "nbconvert_exporter": "python",
   "pygments_lexer": "ipython3",
   "version": "3.8.5"
  }
 },
 "nbformat": 4,
 "nbformat_minor": 4
}
